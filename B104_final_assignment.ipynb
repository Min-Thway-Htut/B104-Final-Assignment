{
  "nbformat": 4,
  "nbformat_minor": 0,
  "metadata": {
    "colab": {
      "provenance": [],
      "authorship_tag": "ABX9TyNEPzno21dzkuPH+TBWZ/Xu",
      "include_colab_link": true
    },
    "kernelspec": {
      "name": "python3",
      "display_name": "Python 3"
    },
    "language_info": {
      "name": "python"
    }
  },
  "cells": [
    {
      "cell_type": "markdown",
      "metadata": {
        "id": "view-in-github",
        "colab_type": "text"
      },
      "source": [
        "<a href=\"https://colab.research.google.com/github/Min-Thway-Htut/B104-Final-Assignment/blob/master/B104_final_assignment.ipynb\" target=\"_parent\"><img src=\"https://colab.research.google.com/assets/colab-badge.svg\" alt=\"Open In Colab\"/></a>"
      ]
    },
    {
      "cell_type": "markdown",
      "source": [
        "# Final Assignment\n",
        "###  Artifical Intelligence & Machine Learning\n",
        "\n",
        "by\n",
        "\n",
        "Min Thway Htut - GH1023126\n",
        "\n",
        "\n"
      ],
      "metadata": {
        "id": "GbQ1k5CnEY0z"
      }
    },
    {
      "cell_type": "markdown",
      "source": [
        "## Problem Statement\n",
        "\n",
        "### Which factors lead students to drop out of school?\n",
        "\n",
        "The main purpose of this machine learning pipeline is to explore the relationship between student dropout rate and the factors that make it happen.\n",
        "\n",
        "It is very important to understand this matter as education plays a vital role in every country. Additionally, high dropout rates can lead to economic decline, increased crime, poor health, and so on."
      ],
      "metadata": {
        "id": "0wbFzaqNEfT3"
      }
    },
    {
      "cell_type": "markdown",
      "source": [
        "## Data collection\n",
        "\n",
        "A related dataset was collected on Kaggle website. Please follow the link below to see the dataset.\n",
        "\n",
        "Please follow the following link to find the dataset.\n",
        "\n",
        "https://github.com/Min-Thway-Htut/B104-Final-Assignment/tree/master/Data\n"
      ],
      "metadata": {
        "id": "kdAqVOXcxupC"
      }
    },
    {
      "cell_type": "code",
      "source": [
        "import pandas as pd\n",
        "import sklearn.model_selection\n",
        "from sklearn.model_selection import train_test_split, GridSearchCV\n",
        "import sklearn.compose\n",
        "import sklearn.preprocessing\n",
        "import sklearn.linear_model\n",
        "import sklearn.metrics\n",
        "from imblearn.over_sampling import SMOTE\n",
        "from sklearn.pipeline import Pipeline\n",
        "from sklearn.ensemble import RandomForestClassifier\n",
        "from sklearn.metrics import confusion_matrix, classification_report, accuracy_score\n",
        "from sklearn.metrics import confusion_matrix, ConfusionMatrixDisplay\n",
        "import seaborn as sns\n",
        "import matplotlib.pyplot as plt\n",
        "from sklearn.linear_model import LogisticRegression\n",
        "from sklearn.ensemble import RandomForestClassifier\n",
        "from sklearn.svm import SVC\n",
        "from sklearn.model_selection import GridSearchCV\n",
        "from sklearn.metrics import accuracy_score, precision_score, recall_score, f1_score"
      ],
      "metadata": {
        "id": "0zyZ8l0R30St"
      },
      "execution_count": 1,
      "outputs": []
    },
    {
      "cell_type": "markdown",
      "source": [
        "As a first step, necessary libraries for the pipeline are imported."
      ],
      "metadata": {
        "id": "GeUvVtpgykJD"
      }
    },
    {
      "cell_type": "code",
      "source": [
        "df = pd.read_csv('/content/student dropout.csv')\n",
        "df.head()"
      ],
      "metadata": {
        "colab": {
          "base_uri": "https://localhost:8080/",
          "height": 255
        },
        "id": "Ovyvqke636LT",
        "outputId": "597601c1-eac2-44c8-b9d4-59632176f03c"
      },
      "execution_count": 2,
      "outputs": [
        {
          "output_type": "execute_result",
          "data": {
            "text/plain": [
              "  School Gender  Age Address Family_Size Parental_Status  Mother_Education  \\\n",
              "0     GP      F   18       U         GT3               A                 4   \n",
              "1     GP      F   17       U         GT3               T                 1   \n",
              "2     GP      F   15       U         LE3               T                 1   \n",
              "3     GP      F   15       U         GT3               T                 4   \n",
              "4     GP      F   16       U         GT3               T                 3   \n",
              "\n",
              "   Father_Education Mother_Job Father_Job  ... Free_Time Going_Out  \\\n",
              "0                 4    at_home    teacher  ...         3         4   \n",
              "1                 1    at_home      other  ...         3         3   \n",
              "2                 1    at_home      other  ...         3         2   \n",
              "3                 2     health   services  ...         2         2   \n",
              "4                 3      other      other  ...         3         2   \n",
              "\n",
              "   Weekend_Alcohol_Consumption  Weekday_Alcohol_Consumption  Health_Status  \\\n",
              "0                            1                            1              3   \n",
              "1                            1                            1              3   \n",
              "2                            2                            3              3   \n",
              "3                            1                            1              5   \n",
              "4                            1                            2              5   \n",
              "\n",
              "  Number_of_Absences Grade_1 Grade_2 Final_Grade Dropped_Out  \n",
              "0                  4       0      11          11       False  \n",
              "1                  2       9      11          11       False  \n",
              "2                  6      12      13          12       False  \n",
              "3                  0      14      14          14       False  \n",
              "4                  0      11      13          13       False  \n",
              "\n",
              "[5 rows x 34 columns]"
            ],
            "text/html": [
              "\n",
              "  <div id=\"df-35c9eda9-3220-4c5d-b240-0cf3463c4a8d\" class=\"colab-df-container\">\n",
              "    <div>\n",
              "<style scoped>\n",
              "    .dataframe tbody tr th:only-of-type {\n",
              "        vertical-align: middle;\n",
              "    }\n",
              "\n",
              "    .dataframe tbody tr th {\n",
              "        vertical-align: top;\n",
              "    }\n",
              "\n",
              "    .dataframe thead th {\n",
              "        text-align: right;\n",
              "    }\n",
              "</style>\n",
              "<table border=\"1\" class=\"dataframe\">\n",
              "  <thead>\n",
              "    <tr style=\"text-align: right;\">\n",
              "      <th></th>\n",
              "      <th>School</th>\n",
              "      <th>Gender</th>\n",
              "      <th>Age</th>\n",
              "      <th>Address</th>\n",
              "      <th>Family_Size</th>\n",
              "      <th>Parental_Status</th>\n",
              "      <th>Mother_Education</th>\n",
              "      <th>Father_Education</th>\n",
              "      <th>Mother_Job</th>\n",
              "      <th>Father_Job</th>\n",
              "      <th>...</th>\n",
              "      <th>Free_Time</th>\n",
              "      <th>Going_Out</th>\n",
              "      <th>Weekend_Alcohol_Consumption</th>\n",
              "      <th>Weekday_Alcohol_Consumption</th>\n",
              "      <th>Health_Status</th>\n",
              "      <th>Number_of_Absences</th>\n",
              "      <th>Grade_1</th>\n",
              "      <th>Grade_2</th>\n",
              "      <th>Final_Grade</th>\n",
              "      <th>Dropped_Out</th>\n",
              "    </tr>\n",
              "  </thead>\n",
              "  <tbody>\n",
              "    <tr>\n",
              "      <th>0</th>\n",
              "      <td>GP</td>\n",
              "      <td>F</td>\n",
              "      <td>18</td>\n",
              "      <td>U</td>\n",
              "      <td>GT3</td>\n",
              "      <td>A</td>\n",
              "      <td>4</td>\n",
              "      <td>4</td>\n",
              "      <td>at_home</td>\n",
              "      <td>teacher</td>\n",
              "      <td>...</td>\n",
              "      <td>3</td>\n",
              "      <td>4</td>\n",
              "      <td>1</td>\n",
              "      <td>1</td>\n",
              "      <td>3</td>\n",
              "      <td>4</td>\n",
              "      <td>0</td>\n",
              "      <td>11</td>\n",
              "      <td>11</td>\n",
              "      <td>False</td>\n",
              "    </tr>\n",
              "    <tr>\n",
              "      <th>1</th>\n",
              "      <td>GP</td>\n",
              "      <td>F</td>\n",
              "      <td>17</td>\n",
              "      <td>U</td>\n",
              "      <td>GT3</td>\n",
              "      <td>T</td>\n",
              "      <td>1</td>\n",
              "      <td>1</td>\n",
              "      <td>at_home</td>\n",
              "      <td>other</td>\n",
              "      <td>...</td>\n",
              "      <td>3</td>\n",
              "      <td>3</td>\n",
              "      <td>1</td>\n",
              "      <td>1</td>\n",
              "      <td>3</td>\n",
              "      <td>2</td>\n",
              "      <td>9</td>\n",
              "      <td>11</td>\n",
              "      <td>11</td>\n",
              "      <td>False</td>\n",
              "    </tr>\n",
              "    <tr>\n",
              "      <th>2</th>\n",
              "      <td>GP</td>\n",
              "      <td>F</td>\n",
              "      <td>15</td>\n",
              "      <td>U</td>\n",
              "      <td>LE3</td>\n",
              "      <td>T</td>\n",
              "      <td>1</td>\n",
              "      <td>1</td>\n",
              "      <td>at_home</td>\n",
              "      <td>other</td>\n",
              "      <td>...</td>\n",
              "      <td>3</td>\n",
              "      <td>2</td>\n",
              "      <td>2</td>\n",
              "      <td>3</td>\n",
              "      <td>3</td>\n",
              "      <td>6</td>\n",
              "      <td>12</td>\n",
              "      <td>13</td>\n",
              "      <td>12</td>\n",
              "      <td>False</td>\n",
              "    </tr>\n",
              "    <tr>\n",
              "      <th>3</th>\n",
              "      <td>GP</td>\n",
              "      <td>F</td>\n",
              "      <td>15</td>\n",
              "      <td>U</td>\n",
              "      <td>GT3</td>\n",
              "      <td>T</td>\n",
              "      <td>4</td>\n",
              "      <td>2</td>\n",
              "      <td>health</td>\n",
              "      <td>services</td>\n",
              "      <td>...</td>\n",
              "      <td>2</td>\n",
              "      <td>2</td>\n",
              "      <td>1</td>\n",
              "      <td>1</td>\n",
              "      <td>5</td>\n",
              "      <td>0</td>\n",
              "      <td>14</td>\n",
              "      <td>14</td>\n",
              "      <td>14</td>\n",
              "      <td>False</td>\n",
              "    </tr>\n",
              "    <tr>\n",
              "      <th>4</th>\n",
              "      <td>GP</td>\n",
              "      <td>F</td>\n",
              "      <td>16</td>\n",
              "      <td>U</td>\n",
              "      <td>GT3</td>\n",
              "      <td>T</td>\n",
              "      <td>3</td>\n",
              "      <td>3</td>\n",
              "      <td>other</td>\n",
              "      <td>other</td>\n",
              "      <td>...</td>\n",
              "      <td>3</td>\n",
              "      <td>2</td>\n",
              "      <td>1</td>\n",
              "      <td>2</td>\n",
              "      <td>5</td>\n",
              "      <td>0</td>\n",
              "      <td>11</td>\n",
              "      <td>13</td>\n",
              "      <td>13</td>\n",
              "      <td>False</td>\n",
              "    </tr>\n",
              "  </tbody>\n",
              "</table>\n",
              "<p>5 rows × 34 columns</p>\n",
              "</div>\n",
              "    <div class=\"colab-df-buttons\">\n",
              "\n",
              "  <div class=\"colab-df-container\">\n",
              "    <button class=\"colab-df-convert\" onclick=\"convertToInteractive('df-35c9eda9-3220-4c5d-b240-0cf3463c4a8d')\"\n",
              "            title=\"Convert this dataframe to an interactive table.\"\n",
              "            style=\"display:none;\">\n",
              "\n",
              "  <svg xmlns=\"http://www.w3.org/2000/svg\" height=\"24px\" viewBox=\"0 -960 960 960\">\n",
              "    <path d=\"M120-120v-720h720v720H120Zm60-500h600v-160H180v160Zm220 220h160v-160H400v160Zm0 220h160v-160H400v160ZM180-400h160v-160H180v160Zm440 0h160v-160H620v160ZM180-180h160v-160H180v160Zm440 0h160v-160H620v160Z\"/>\n",
              "  </svg>\n",
              "    </button>\n",
              "\n",
              "  <style>\n",
              "    .colab-df-container {\n",
              "      display:flex;\n",
              "      gap: 12px;\n",
              "    }\n",
              "\n",
              "    .colab-df-convert {\n",
              "      background-color: #E8F0FE;\n",
              "      border: none;\n",
              "      border-radius: 50%;\n",
              "      cursor: pointer;\n",
              "      display: none;\n",
              "      fill: #1967D2;\n",
              "      height: 32px;\n",
              "      padding: 0 0 0 0;\n",
              "      width: 32px;\n",
              "    }\n",
              "\n",
              "    .colab-df-convert:hover {\n",
              "      background-color: #E2EBFA;\n",
              "      box-shadow: 0px 1px 2px rgba(60, 64, 67, 0.3), 0px 1px 3px 1px rgba(60, 64, 67, 0.15);\n",
              "      fill: #174EA6;\n",
              "    }\n",
              "\n",
              "    .colab-df-buttons div {\n",
              "      margin-bottom: 4px;\n",
              "    }\n",
              "\n",
              "    [theme=dark] .colab-df-convert {\n",
              "      background-color: #3B4455;\n",
              "      fill: #D2E3FC;\n",
              "    }\n",
              "\n",
              "    [theme=dark] .colab-df-convert:hover {\n",
              "      background-color: #434B5C;\n",
              "      box-shadow: 0px 1px 3px 1px rgba(0, 0, 0, 0.15);\n",
              "      filter: drop-shadow(0px 1px 2px rgba(0, 0, 0, 0.3));\n",
              "      fill: #FFFFFF;\n",
              "    }\n",
              "  </style>\n",
              "\n",
              "    <script>\n",
              "      const buttonEl =\n",
              "        document.querySelector('#df-35c9eda9-3220-4c5d-b240-0cf3463c4a8d button.colab-df-convert');\n",
              "      buttonEl.style.display =\n",
              "        google.colab.kernel.accessAllowed ? 'block' : 'none';\n",
              "\n",
              "      async function convertToInteractive(key) {\n",
              "        const element = document.querySelector('#df-35c9eda9-3220-4c5d-b240-0cf3463c4a8d');\n",
              "        const dataTable =\n",
              "          await google.colab.kernel.invokeFunction('convertToInteractive',\n",
              "                                                    [key], {});\n",
              "        if (!dataTable) return;\n",
              "\n",
              "        const docLinkHtml = 'Like what you see? Visit the ' +\n",
              "          '<a target=\"_blank\" href=https://colab.research.google.com/notebooks/data_table.ipynb>data table notebook</a>'\n",
              "          + ' to learn more about interactive tables.';\n",
              "        element.innerHTML = '';\n",
              "        dataTable['output_type'] = 'display_data';\n",
              "        await google.colab.output.renderOutput(dataTable, element);\n",
              "        const docLink = document.createElement('div');\n",
              "        docLink.innerHTML = docLinkHtml;\n",
              "        element.appendChild(docLink);\n",
              "      }\n",
              "    </script>\n",
              "  </div>\n",
              "\n",
              "\n",
              "<div id=\"df-808e6d56-69d9-4edd-bfa9-f3610a075eb0\">\n",
              "  <button class=\"colab-df-quickchart\" onclick=\"quickchart('df-808e6d56-69d9-4edd-bfa9-f3610a075eb0')\"\n",
              "            title=\"Suggest charts\"\n",
              "            style=\"display:none;\">\n",
              "\n",
              "<svg xmlns=\"http://www.w3.org/2000/svg\" height=\"24px\"viewBox=\"0 0 24 24\"\n",
              "     width=\"24px\">\n",
              "    <g>\n",
              "        <path d=\"M19 3H5c-1.1 0-2 .9-2 2v14c0 1.1.9 2 2 2h14c1.1 0 2-.9 2-2V5c0-1.1-.9-2-2-2zM9 17H7v-7h2v7zm4 0h-2V7h2v10zm4 0h-2v-4h2v4z\"/>\n",
              "    </g>\n",
              "</svg>\n",
              "  </button>\n",
              "\n",
              "<style>\n",
              "  .colab-df-quickchart {\n",
              "      --bg-color: #E8F0FE;\n",
              "      --fill-color: #1967D2;\n",
              "      --hover-bg-color: #E2EBFA;\n",
              "      --hover-fill-color: #174EA6;\n",
              "      --disabled-fill-color: #AAA;\n",
              "      --disabled-bg-color: #DDD;\n",
              "  }\n",
              "\n",
              "  [theme=dark] .colab-df-quickchart {\n",
              "      --bg-color: #3B4455;\n",
              "      --fill-color: #D2E3FC;\n",
              "      --hover-bg-color: #434B5C;\n",
              "      --hover-fill-color: #FFFFFF;\n",
              "      --disabled-bg-color: #3B4455;\n",
              "      --disabled-fill-color: #666;\n",
              "  }\n",
              "\n",
              "  .colab-df-quickchart {\n",
              "    background-color: var(--bg-color);\n",
              "    border: none;\n",
              "    border-radius: 50%;\n",
              "    cursor: pointer;\n",
              "    display: none;\n",
              "    fill: var(--fill-color);\n",
              "    height: 32px;\n",
              "    padding: 0;\n",
              "    width: 32px;\n",
              "  }\n",
              "\n",
              "  .colab-df-quickchart:hover {\n",
              "    background-color: var(--hover-bg-color);\n",
              "    box-shadow: 0 1px 2px rgba(60, 64, 67, 0.3), 0 1px 3px 1px rgba(60, 64, 67, 0.15);\n",
              "    fill: var(--button-hover-fill-color);\n",
              "  }\n",
              "\n",
              "  .colab-df-quickchart-complete:disabled,\n",
              "  .colab-df-quickchart-complete:disabled:hover {\n",
              "    background-color: var(--disabled-bg-color);\n",
              "    fill: var(--disabled-fill-color);\n",
              "    box-shadow: none;\n",
              "  }\n",
              "\n",
              "  .colab-df-spinner {\n",
              "    border: 2px solid var(--fill-color);\n",
              "    border-color: transparent;\n",
              "    border-bottom-color: var(--fill-color);\n",
              "    animation:\n",
              "      spin 1s steps(1) infinite;\n",
              "  }\n",
              "\n",
              "  @keyframes spin {\n",
              "    0% {\n",
              "      border-color: transparent;\n",
              "      border-bottom-color: var(--fill-color);\n",
              "      border-left-color: var(--fill-color);\n",
              "    }\n",
              "    20% {\n",
              "      border-color: transparent;\n",
              "      border-left-color: var(--fill-color);\n",
              "      border-top-color: var(--fill-color);\n",
              "    }\n",
              "    30% {\n",
              "      border-color: transparent;\n",
              "      border-left-color: var(--fill-color);\n",
              "      border-top-color: var(--fill-color);\n",
              "      border-right-color: var(--fill-color);\n",
              "    }\n",
              "    40% {\n",
              "      border-color: transparent;\n",
              "      border-right-color: var(--fill-color);\n",
              "      border-top-color: var(--fill-color);\n",
              "    }\n",
              "    60% {\n",
              "      border-color: transparent;\n",
              "      border-right-color: var(--fill-color);\n",
              "    }\n",
              "    80% {\n",
              "      border-color: transparent;\n",
              "      border-right-color: var(--fill-color);\n",
              "      border-bottom-color: var(--fill-color);\n",
              "    }\n",
              "    90% {\n",
              "      border-color: transparent;\n",
              "      border-bottom-color: var(--fill-color);\n",
              "    }\n",
              "  }\n",
              "</style>\n",
              "\n",
              "  <script>\n",
              "    async function quickchart(key) {\n",
              "      const quickchartButtonEl =\n",
              "        document.querySelector('#' + key + ' button');\n",
              "      quickchartButtonEl.disabled = true;  // To prevent multiple clicks.\n",
              "      quickchartButtonEl.classList.add('colab-df-spinner');\n",
              "      try {\n",
              "        const charts = await google.colab.kernel.invokeFunction(\n",
              "            'suggestCharts', [key], {});\n",
              "      } catch (error) {\n",
              "        console.error('Error during call to suggestCharts:', error);\n",
              "      }\n",
              "      quickchartButtonEl.classList.remove('colab-df-spinner');\n",
              "      quickchartButtonEl.classList.add('colab-df-quickchart-complete');\n",
              "    }\n",
              "    (() => {\n",
              "      let quickchartButtonEl =\n",
              "        document.querySelector('#df-808e6d56-69d9-4edd-bfa9-f3610a075eb0 button');\n",
              "      quickchartButtonEl.style.display =\n",
              "        google.colab.kernel.accessAllowed ? 'block' : 'none';\n",
              "    })();\n",
              "  </script>\n",
              "</div>\n",
              "\n",
              "    </div>\n",
              "  </div>\n"
            ],
            "application/vnd.google.colaboratory.intrinsic+json": {
              "type": "dataframe",
              "variable_name": "df"
            }
          },
          "metadata": {},
          "execution_count": 2
        }
      ]
    },
    {
      "cell_type": "code",
      "source": [
        "df_train, df_test = sklearn.model_selection.train_test_split(df)\n",
        "\n",
        "print(\"df size\", df.shape)\n",
        "print(\"df train size\", df_train.shape)\n",
        "print(\"df test size\", df_test.shape)"
      ],
      "metadata": {
        "colab": {
          "base_uri": "https://localhost:8080/"
        },
        "id": "tCrSwo0qz7W-",
        "outputId": "5e4def5d-0fc6-4d93-ef9f-8ed5f81bd746"
      },
      "execution_count": 3,
      "outputs": [
        {
          "output_type": "stream",
          "name": "stdout",
          "text": [
            "df size (649, 34)\n",
            "df train size (486, 34)\n",
            "df test size (163, 34)\n"
          ]
        }
      ]
    },
    {
      "cell_type": "markdown",
      "source": [
        "Before working on the other steps, the data is split into train data and test data(75% for the train data and 25% for the test data)."
      ],
      "metadata": {
        "id": "n6B9-tIp2O3T"
      }
    },
    {
      "cell_type": "markdown",
      "source": [
        "## Data Exploration"
      ],
      "metadata": {
        "id": "y2ka0QFa4a86"
      }
    },
    {
      "cell_type": "code",
      "source": [
        "df_train.dtypes"
      ],
      "metadata": {
        "colab": {
          "base_uri": "https://localhost:8080/",
          "height": 1000
        },
        "id": "iWjhDpHW7RAm",
        "outputId": "7e235348-e152-478c-ab89-0667e8fb5373"
      },
      "execution_count": 4,
      "outputs": [
        {
          "output_type": "execute_result",
          "data": {
            "text/plain": [
              "School                         object\n",
              "Gender                         object\n",
              "Age                             int64\n",
              "Address                        object\n",
              "Family_Size                    object\n",
              "Parental_Status                object\n",
              "Mother_Education                int64\n",
              "Father_Education                int64\n",
              "Mother_Job                     object\n",
              "Father_Job                     object\n",
              "Reason_for_Choosing_School     object\n",
              "Guardian                       object\n",
              "Travel_Time                     int64\n",
              "Study_Time                      int64\n",
              "Number_of_Failures              int64\n",
              "School_Support                 object\n",
              "Family_Support                 object\n",
              "Extra_Paid_Class               object\n",
              "Extra_Curricular_Activities    object\n",
              "Attended_Nursery               object\n",
              "Wants_Higher_Education         object\n",
              "Internet_Access                object\n",
              "In_Relationship                object\n",
              "Family_Relationship             int64\n",
              "Free_Time                       int64\n",
              "Going_Out                       int64\n",
              "Weekend_Alcohol_Consumption     int64\n",
              "Weekday_Alcohol_Consumption     int64\n",
              "Health_Status                   int64\n",
              "Number_of_Absences              int64\n",
              "Grade_1                         int64\n",
              "Grade_2                         int64\n",
              "Final_Grade                     int64\n",
              "Dropped_Out                      bool\n",
              "dtype: object"
            ],
            "text/html": [
              "<div>\n",
              "<style scoped>\n",
              "    .dataframe tbody tr th:only-of-type {\n",
              "        vertical-align: middle;\n",
              "    }\n",
              "\n",
              "    .dataframe tbody tr th {\n",
              "        vertical-align: top;\n",
              "    }\n",
              "\n",
              "    .dataframe thead th {\n",
              "        text-align: right;\n",
              "    }\n",
              "</style>\n",
              "<table border=\"1\" class=\"dataframe\">\n",
              "  <thead>\n",
              "    <tr style=\"text-align: right;\">\n",
              "      <th></th>\n",
              "      <th>0</th>\n",
              "    </tr>\n",
              "  </thead>\n",
              "  <tbody>\n",
              "    <tr>\n",
              "      <th>School</th>\n",
              "      <td>object</td>\n",
              "    </tr>\n",
              "    <tr>\n",
              "      <th>Gender</th>\n",
              "      <td>object</td>\n",
              "    </tr>\n",
              "    <tr>\n",
              "      <th>Age</th>\n",
              "      <td>int64</td>\n",
              "    </tr>\n",
              "    <tr>\n",
              "      <th>Address</th>\n",
              "      <td>object</td>\n",
              "    </tr>\n",
              "    <tr>\n",
              "      <th>Family_Size</th>\n",
              "      <td>object</td>\n",
              "    </tr>\n",
              "    <tr>\n",
              "      <th>Parental_Status</th>\n",
              "      <td>object</td>\n",
              "    </tr>\n",
              "    <tr>\n",
              "      <th>Mother_Education</th>\n",
              "      <td>int64</td>\n",
              "    </tr>\n",
              "    <tr>\n",
              "      <th>Father_Education</th>\n",
              "      <td>int64</td>\n",
              "    </tr>\n",
              "    <tr>\n",
              "      <th>Mother_Job</th>\n",
              "      <td>object</td>\n",
              "    </tr>\n",
              "    <tr>\n",
              "      <th>Father_Job</th>\n",
              "      <td>object</td>\n",
              "    </tr>\n",
              "    <tr>\n",
              "      <th>Reason_for_Choosing_School</th>\n",
              "      <td>object</td>\n",
              "    </tr>\n",
              "    <tr>\n",
              "      <th>Guardian</th>\n",
              "      <td>object</td>\n",
              "    </tr>\n",
              "    <tr>\n",
              "      <th>Travel_Time</th>\n",
              "      <td>int64</td>\n",
              "    </tr>\n",
              "    <tr>\n",
              "      <th>Study_Time</th>\n",
              "      <td>int64</td>\n",
              "    </tr>\n",
              "    <tr>\n",
              "      <th>Number_of_Failures</th>\n",
              "      <td>int64</td>\n",
              "    </tr>\n",
              "    <tr>\n",
              "      <th>School_Support</th>\n",
              "      <td>object</td>\n",
              "    </tr>\n",
              "    <tr>\n",
              "      <th>Family_Support</th>\n",
              "      <td>object</td>\n",
              "    </tr>\n",
              "    <tr>\n",
              "      <th>Extra_Paid_Class</th>\n",
              "      <td>object</td>\n",
              "    </tr>\n",
              "    <tr>\n",
              "      <th>Extra_Curricular_Activities</th>\n",
              "      <td>object</td>\n",
              "    </tr>\n",
              "    <tr>\n",
              "      <th>Attended_Nursery</th>\n",
              "      <td>object</td>\n",
              "    </tr>\n",
              "    <tr>\n",
              "      <th>Wants_Higher_Education</th>\n",
              "      <td>object</td>\n",
              "    </tr>\n",
              "    <tr>\n",
              "      <th>Internet_Access</th>\n",
              "      <td>object</td>\n",
              "    </tr>\n",
              "    <tr>\n",
              "      <th>In_Relationship</th>\n",
              "      <td>object</td>\n",
              "    </tr>\n",
              "    <tr>\n",
              "      <th>Family_Relationship</th>\n",
              "      <td>int64</td>\n",
              "    </tr>\n",
              "    <tr>\n",
              "      <th>Free_Time</th>\n",
              "      <td>int64</td>\n",
              "    </tr>\n",
              "    <tr>\n",
              "      <th>Going_Out</th>\n",
              "      <td>int64</td>\n",
              "    </tr>\n",
              "    <tr>\n",
              "      <th>Weekend_Alcohol_Consumption</th>\n",
              "      <td>int64</td>\n",
              "    </tr>\n",
              "    <tr>\n",
              "      <th>Weekday_Alcohol_Consumption</th>\n",
              "      <td>int64</td>\n",
              "    </tr>\n",
              "    <tr>\n",
              "      <th>Health_Status</th>\n",
              "      <td>int64</td>\n",
              "    </tr>\n",
              "    <tr>\n",
              "      <th>Number_of_Absences</th>\n",
              "      <td>int64</td>\n",
              "    </tr>\n",
              "    <tr>\n",
              "      <th>Grade_1</th>\n",
              "      <td>int64</td>\n",
              "    </tr>\n",
              "    <tr>\n",
              "      <th>Grade_2</th>\n",
              "      <td>int64</td>\n",
              "    </tr>\n",
              "    <tr>\n",
              "      <th>Final_Grade</th>\n",
              "      <td>int64</td>\n",
              "    </tr>\n",
              "    <tr>\n",
              "      <th>Dropped_Out</th>\n",
              "      <td>bool</td>\n",
              "    </tr>\n",
              "  </tbody>\n",
              "</table>\n",
              "</div><br><label><b>dtype:</b> object</label>"
            ]
          },
          "metadata": {},
          "execution_count": 4
        }
      ]
    },
    {
      "cell_type": "markdown",
      "source": [
        "\\We find out that our dataset consists of different data types such as int64 and boolean."
      ],
      "metadata": {
        "id": "9gHkeURW7Yaq"
      }
    },
    {
      "cell_type": "code",
      "source": [
        "df.isnull().sum()"
      ],
      "metadata": {
        "colab": {
          "base_uri": "https://localhost:8080/",
          "height": 1000
        },
        "id": "cFw33V_l6kHm",
        "outputId": "cd19222a-f1b8-4c35-9ca0-7cf6d889701e"
      },
      "execution_count": 5,
      "outputs": [
        {
          "output_type": "execute_result",
          "data": {
            "text/plain": [
              "School                         0\n",
              "Gender                         0\n",
              "Age                            0\n",
              "Address                        0\n",
              "Family_Size                    0\n",
              "Parental_Status                0\n",
              "Mother_Education               0\n",
              "Father_Education               0\n",
              "Mother_Job                     0\n",
              "Father_Job                     0\n",
              "Reason_for_Choosing_School     0\n",
              "Guardian                       0\n",
              "Travel_Time                    0\n",
              "Study_Time                     0\n",
              "Number_of_Failures             0\n",
              "School_Support                 0\n",
              "Family_Support                 0\n",
              "Extra_Paid_Class               0\n",
              "Extra_Curricular_Activities    0\n",
              "Attended_Nursery               0\n",
              "Wants_Higher_Education         0\n",
              "Internet_Access                0\n",
              "In_Relationship                0\n",
              "Family_Relationship            0\n",
              "Free_Time                      0\n",
              "Going_Out                      0\n",
              "Weekend_Alcohol_Consumption    0\n",
              "Weekday_Alcohol_Consumption    0\n",
              "Health_Status                  0\n",
              "Number_of_Absences             0\n",
              "Grade_1                        0\n",
              "Grade_2                        0\n",
              "Final_Grade                    0\n",
              "Dropped_Out                    0\n",
              "dtype: int64"
            ],
            "text/html": [
              "<div>\n",
              "<style scoped>\n",
              "    .dataframe tbody tr th:only-of-type {\n",
              "        vertical-align: middle;\n",
              "    }\n",
              "\n",
              "    .dataframe tbody tr th {\n",
              "        vertical-align: top;\n",
              "    }\n",
              "\n",
              "    .dataframe thead th {\n",
              "        text-align: right;\n",
              "    }\n",
              "</style>\n",
              "<table border=\"1\" class=\"dataframe\">\n",
              "  <thead>\n",
              "    <tr style=\"text-align: right;\">\n",
              "      <th></th>\n",
              "      <th>0</th>\n",
              "    </tr>\n",
              "  </thead>\n",
              "  <tbody>\n",
              "    <tr>\n",
              "      <th>School</th>\n",
              "      <td>0</td>\n",
              "    </tr>\n",
              "    <tr>\n",
              "      <th>Gender</th>\n",
              "      <td>0</td>\n",
              "    </tr>\n",
              "    <tr>\n",
              "      <th>Age</th>\n",
              "      <td>0</td>\n",
              "    </tr>\n",
              "    <tr>\n",
              "      <th>Address</th>\n",
              "      <td>0</td>\n",
              "    </tr>\n",
              "    <tr>\n",
              "      <th>Family_Size</th>\n",
              "      <td>0</td>\n",
              "    </tr>\n",
              "    <tr>\n",
              "      <th>Parental_Status</th>\n",
              "      <td>0</td>\n",
              "    </tr>\n",
              "    <tr>\n",
              "      <th>Mother_Education</th>\n",
              "      <td>0</td>\n",
              "    </tr>\n",
              "    <tr>\n",
              "      <th>Father_Education</th>\n",
              "      <td>0</td>\n",
              "    </tr>\n",
              "    <tr>\n",
              "      <th>Mother_Job</th>\n",
              "      <td>0</td>\n",
              "    </tr>\n",
              "    <tr>\n",
              "      <th>Father_Job</th>\n",
              "      <td>0</td>\n",
              "    </tr>\n",
              "    <tr>\n",
              "      <th>Reason_for_Choosing_School</th>\n",
              "      <td>0</td>\n",
              "    </tr>\n",
              "    <tr>\n",
              "      <th>Guardian</th>\n",
              "      <td>0</td>\n",
              "    </tr>\n",
              "    <tr>\n",
              "      <th>Travel_Time</th>\n",
              "      <td>0</td>\n",
              "    </tr>\n",
              "    <tr>\n",
              "      <th>Study_Time</th>\n",
              "      <td>0</td>\n",
              "    </tr>\n",
              "    <tr>\n",
              "      <th>Number_of_Failures</th>\n",
              "      <td>0</td>\n",
              "    </tr>\n",
              "    <tr>\n",
              "      <th>School_Support</th>\n",
              "      <td>0</td>\n",
              "    </tr>\n",
              "    <tr>\n",
              "      <th>Family_Support</th>\n",
              "      <td>0</td>\n",
              "    </tr>\n",
              "    <tr>\n",
              "      <th>Extra_Paid_Class</th>\n",
              "      <td>0</td>\n",
              "    </tr>\n",
              "    <tr>\n",
              "      <th>Extra_Curricular_Activities</th>\n",
              "      <td>0</td>\n",
              "    </tr>\n",
              "    <tr>\n",
              "      <th>Attended_Nursery</th>\n",
              "      <td>0</td>\n",
              "    </tr>\n",
              "    <tr>\n",
              "      <th>Wants_Higher_Education</th>\n",
              "      <td>0</td>\n",
              "    </tr>\n",
              "    <tr>\n",
              "      <th>Internet_Access</th>\n",
              "      <td>0</td>\n",
              "    </tr>\n",
              "    <tr>\n",
              "      <th>In_Relationship</th>\n",
              "      <td>0</td>\n",
              "    </tr>\n",
              "    <tr>\n",
              "      <th>Family_Relationship</th>\n",
              "      <td>0</td>\n",
              "    </tr>\n",
              "    <tr>\n",
              "      <th>Free_Time</th>\n",
              "      <td>0</td>\n",
              "    </tr>\n",
              "    <tr>\n",
              "      <th>Going_Out</th>\n",
              "      <td>0</td>\n",
              "    </tr>\n",
              "    <tr>\n",
              "      <th>Weekend_Alcohol_Consumption</th>\n",
              "      <td>0</td>\n",
              "    </tr>\n",
              "    <tr>\n",
              "      <th>Weekday_Alcohol_Consumption</th>\n",
              "      <td>0</td>\n",
              "    </tr>\n",
              "    <tr>\n",
              "      <th>Health_Status</th>\n",
              "      <td>0</td>\n",
              "    </tr>\n",
              "    <tr>\n",
              "      <th>Number_of_Absences</th>\n",
              "      <td>0</td>\n",
              "    </tr>\n",
              "    <tr>\n",
              "      <th>Grade_1</th>\n",
              "      <td>0</td>\n",
              "    </tr>\n",
              "    <tr>\n",
              "      <th>Grade_2</th>\n",
              "      <td>0</td>\n",
              "    </tr>\n",
              "    <tr>\n",
              "      <th>Final_Grade</th>\n",
              "      <td>0</td>\n",
              "    </tr>\n",
              "    <tr>\n",
              "      <th>Dropped_Out</th>\n",
              "      <td>0</td>\n",
              "    </tr>\n",
              "  </tbody>\n",
              "</table>\n",
              "</div><br><label><b>dtype:</b> int64</label>"
            ]
          },
          "metadata": {},
          "execution_count": 5
        }
      ]
    },
    {
      "cell_type": "markdown",
      "source": [
        "It is important to check if there were any missing value or null value in each column.\n",
        "In this case, there is no missing value in our dataset."
      ],
      "metadata": {
        "id": "y2ADPmIq7pXL"
      }
    },
    {
      "cell_type": "code",
      "source": [
        "df_train[\"Age\"].hist()"
      ],
      "metadata": {
        "colab": {
          "base_uri": "https://localhost:8080/",
          "height": 447
        },
        "id": "vUe8_Qjg8hsX",
        "outputId": "30214dce-767b-40a2-aad3-bae823bf4733"
      },
      "execution_count": 6,
      "outputs": [
        {
          "output_type": "execute_result",
          "data": {
            "text/plain": [
              "<Axes: >"
            ]
          },
          "metadata": {},
          "execution_count": 6
        },
        {
          "output_type": "display_data",
          "data": {
            "text/plain": [
              "<Figure size 640x480 with 1 Axes>"
            ],
            "image/png": "[encoded data removed]"
          },
          "metadata": {}
        }
      ]
    },
    {
      "cell_type": "markdown",
      "source": [
        "According to the generated figure, the age varies from 15 to 22."
      ],
      "metadata": {
        "id": "iKbDvrhG86Ry"
      }
    },
    {
      "cell_type": "code",
      "source": [
        "df_train[\"Gender\"].value_counts().plot(kind=\"bar\")"
      ],
      "metadata": {
        "colab": {
          "base_uri": "https://localhost:8080/",
          "height": 464
        },
        "id": "piMdqcnD9IfQ",
        "outputId": "a92adf77-8e7d-4672-febd-86e75e719d24"
      },
      "execution_count": 7,
      "outputs": [
        {
          "output_type": "execute_result",
          "data": {
            "text/plain": [
              "<Axes: xlabel='Gender'>"
            ]
          },
          "metadata": {},
          "execution_count": 7
        },
        {
          "output_type": "display_data",
          "data": {
            "text/plain": [
              "<Figure size 640x480 with 1 Axes>"
            ],
            "image/png": "[encoded data removed]"
          },
          "metadata": {}
        }
      ]
    },
    {
      "cell_type": "markdown",
      "source": [
        "There are 279 females and 207 males in our train dataset."
      ],
      "metadata": {
        "id": "W-pjCxuw-erU"
      }
    },
    {
      "cell_type": "code",
      "source": [
        "df_train[\"Dropped_Out\"].value_counts().plot(kind=\"bar\")"
      ],
      "metadata": {
        "colab": {
          "base_uri": "https://localhost:8080/",
          "height": 487
        },
        "id": "ATFjewASFLXx",
        "outputId": "d0ae70db-e593-4813-efdb-922e3d495056"
      },
      "execution_count": 8,
      "outputs": [
        {
          "output_type": "execute_result",
          "data": {
            "text/plain": [
              "<Axes: xlabel='Dropped_Out'>"
            ]
          },
          "metadata": {},
          "execution_count": 8
        },
        {
          "output_type": "display_data",
          "data": {
            "text/plain": [
              "<Figure size 640x480 with 1 Axes>"
            ],
            "image/png": "[encoded data removed]"
          },
          "metadata": {}
        }
      ]
    },
    {
      "cell_type": "markdown",
      "source": [
        "This figure suggests that our target variable suffers a class imbalance,\n",
        "necessitating a particular sampling method."
      ],
      "metadata": {
        "id": "EMYSbv2IFROZ"
      }
    },
    {
      "cell_type": "markdown",
      "source": [
        "## Data Preprocessing"
      ],
      "metadata": {
        "id": "Trte6akhXL9t"
      }
    },
    {
      "cell_type": "code",
      "source": [
        "x_train = df_train.drop([\"Dropped_Out\"], axis=1)\n",
        "y_train = df_train[\"Dropped_Out\"]\n",
        "x_test = df_test.drop([\"Dropped_Out\"], axis=1)\n",
        "y_test = df_test[\"Dropped_Out\"]\n",
        "\n",
        "print(\"x_train size:\", x_train.shape)\n",
        "print(\"y_test size:\",y_train.shape)\n",
        "print(\"x_train size:\", x_train.shape)\n",
        "print(\"y_train size:\", y_train.shape)"
      ],
      "metadata": {
        "colab": {
          "base_uri": "https://localhost:8080/"
        },
        "id": "EPHSvDISZlfR",
        "outputId": "7e9eba3d-3a70-4943-f26d-0f21f229c58c"
      },
      "execution_count": 9,
      "outputs": [
        {
          "output_type": "stream",
          "name": "stdout",
          "text": [
            "x_train size: (486, 33)\n",
            "y_test size: (486,)\n",
            "x_train size: (486, 33)\n",
            "y_train size: (486,)\n"
          ]
        }
      ]
    },
    {
      "cell_type": "markdown",
      "source": [
        "We seperate features and target variables for training and testing variables."
      ],
      "metadata": {
        "id": "hVANiSVdHgE8"
      }
    },
    {
      "cell_type": "code",
      "source": [
        "x_train_encoded = pd.get_dummies(x_train, drop_first=True)\n",
        "x_test_encoded = pd.get_dummies(x_test, drop_first=True)"
      ],
      "metadata": {
        "id": "1R81sW3KGNH4"
      },
      "execution_count": 10,
      "outputs": []
    },
    {
      "cell_type": "markdown",
      "source": [
        "In order to make our target variable balanced, using one-hot encoding, we convert categorical variables of the train dataset and test dataset into numercial ones."
      ],
      "metadata": {
        "id": "KUiHtiqnKmUd"
      }
    },
    {
      "cell_type": "code",
      "source": [
        "x_train_encoded, x_test_encoded = x_train_encoded.align(x_test_encoded, join='left', axis=1, fill_value=0)"
      ],
      "metadata": {
        "id": "LEXkHp4tJHE9"
      },
      "execution_count": 11,
      "outputs": []
    },
    {
      "cell_type": "markdown",
      "source": [
        "After that, we make sure that both train and test sets have the same columns"
      ],
      "metadata": {
        "id": "frb2QWH6LFJ6"
      }
    },
    {
      "cell_type": "code",
      "source": [
        "smote = SMOTE(random_state=42)\n",
        "x_train_resampled, y_train_resampled = smote.fit_resample(x_train_encoded, y_train)"
      ],
      "metadata": {
        "id": "uJLVgfNvJKN0"
      },
      "execution_count": 12,
      "outputs": []
    },
    {
      "cell_type": "code",
      "source": [
        "print(\"Resampled class distribution in y_train:\")\n",
        "print(y_train_resampled.value_counts())"
      ],
      "metadata": {
        "colab": {
          "base_uri": "https://localhost:8080/"
        },
        "id": "vSjC1gZiJOAN",
        "outputId": "7f8624f6-ab48-49a4-be4a-2ea2a38f8d1b"
      },
      "execution_count": 13,
      "outputs": [
        {
          "output_type": "stream",
          "name": "stdout",
          "text": [
            "Resampled class distribution in y_train:\n",
            "Dropped_Out\n",
            "False    410\n",
            "True     410\n",
            "Name: count, dtype: int64\n"
          ]
        }
      ]
    },
    {
      "cell_type": "markdown",
      "source": [
        "As a result, our target variables are balanced finally."
      ],
      "metadata": {
        "id": "QSYnTEm4XTMt"
      }
    },
    {
      "cell_type": "markdown",
      "source": [
        "## Feature Engineering"
      ],
      "metadata": {
        "id": "jY2knc5MdCH1"
      }
    },
    {
      "cell_type": "code",
      "source": [
        "categorical_attributes = x_train.select_dtypes([\"object\"]).columns\n",
        "numerical_attributes = x_train.select_dtypes([\"int64\"], \"float64\").columns\n",
        "\n",
        "ct = sklearn.compose.ColumnTransformer([\n",
        "    (\"one-encoder\",sklearn.preprocessing.OneHotEncoder(handle_unknown = \"ignore\"), categorical_attributes),\n",
        "   (\"scaling\", sklearn.preprocessing.StandardScaler(), numerical_attributes )\n",
        "])\n",
        "ct.fit(x_train)\n",
        "x_train = ct.transform(x_train)\n",
        "x_test = ct.transform(x_test)\n",
        "\n",
        "print(\"x_train size:\", x_train.shape)\n",
        "print(\"x_test size:\", x_test.shape)"
      ],
      "metadata": {
        "colab": {
          "base_uri": "https://localhost:8080/"
        },
        "id": "rbo3OW7eek-l",
        "outputId": "d5e13de5-5e59-441e-c711-6547eda0e19f"
      },
      "execution_count": 14,
      "outputs": [
        {
          "output_type": "stream",
          "name": "stdout",
          "text": [
            "x_train size: (486, 59)\n",
            "x_test size: (163, 59)\n"
          ]
        }
      ]
    },
    {
      "cell_type": "markdown",
      "source": [
        "We differentiate categorical and numerical columns, targeting \"object\" data type for the categorical attributes and \"int64\" and \"float64\" data types for the numerical attributes.\n",
        "\n",
        "In this case, ColumnTrasnformer is used to apply transformations to columns of the dataset. We use OneHotEncoder to convert categorical variables into binary columns while StandardScaler is used for the numerical features."
      ],
      "metadata": {
        "id": "9ahhRXicadsd"
      }
    },
    {
      "cell_type": "markdown",
      "source": [
        "## Model Training"
      ],
      "metadata": {
        "id": "WAYzx-D93oUY"
      }
    },
    {
      "cell_type": "code",
      "source": [
        "models = {\n",
        "    'Logistic Regression': LogisticRegression(max_iter=500),\n",
        "    'Random Forest': RandomForestClassifier(random_state=42),\n",
        "    'Support Vector Machine': SVC()\n",
        "}"
      ],
      "metadata": {
        "id": "StVPd4CGFRNk"
      },
      "execution_count": 15,
      "outputs": []
    },
    {
      "cell_type": "markdown",
      "source": [
        "To choose the optimal algorithm, we train our model using three different algorithms (Logistic Regression, Random Forest, and Support Vector Machine0)."
      ],
      "metadata": {
        "id": "E4qU_2fhiEFV"
      }
    },
    {
      "cell_type": "code",
      "source": [
        "param_grid = {\n",
        "    'Random Forest': {\n",
        "        'classifier__n_estimators': [100, 200],\n",
        "        'classifier__max_depth': [None, 10, 20]\n",
        "    },\n",
        "    'Support Vector Machine': {\n",
        "        'classifier__C': [0.1,1,10],\n",
        "        'classifier__kernel': ['linear', 'rbf']\n",
        "    },\n",
        "    'Logistic Regression': {\n",
        "        'classifier__C':[0.1,1,10]\n",
        "    }\n",
        "}\n",
        "\n",
        "best_models = {}"
      ],
      "metadata": {
        "id": "vH1JhKkiN6ET"
      },
      "execution_count": 16,
      "outputs": []
    },
    {
      "cell_type": "markdown",
      "source": [
        "And then, their respective hyper parameters are tuned and a dictionary is created to store these hyper parameters."
      ],
      "metadata": {
        "id": "FsTkHBw0RAdj"
      }
    },
    {
      "cell_type": "markdown",
      "source": [
        "## Model Training"
      ],
      "metadata": {
        "id": "deHsik88zNvD"
      }
    },
    {
      "cell_type": "code",
      "source": [
        "for name, model in models.items():\n",
        "    pipeline = Pipeline(steps=[\n",
        "        ('classifier', model)\n",
        "    ])\n",
        "\n",
        "    grid_search = GridSearchCV(pipeline, param_grid[name], cv=5, scoring='accuracy')\n",
        "    grid_search.fit(x_train, y_train)\n",
        "\n",
        "    best_models[name] = grid_search.best_estimator_\n",
        "    print(f\"Best parameters for {name}: {grid_search.best_params_}\")"
      ],
      "metadata": {
        "colab": {
          "base_uri": "https://localhost:8080/"
        },
        "id": "yoVXbbQ1Ojad",
        "outputId": "2f1d440a-8893-48b8-a7c6-8e65dd351f7f"
      },
      "execution_count": 17,
      "outputs": [
        {
          "output_type": "stream",
          "name": "stdout",
          "text": [
            "Best parameters for Logistic Regression: {'classifier__C': 10}\n",
            "Best parameters for Random Forest: {'classifier__max_depth': None, 'classifier__n_estimators': 100}\n",
            "Best parameters for Support Vector Machine: {'classifier__C': 10, 'classifier__kernel': 'linear'}\n"
          ]
        }
      ]
    },
    {
      "cell_type": "markdown",
      "source": [
        "To figure out the best possible parameter based on the accuracy, the cross-validation method is applied for each machine learning model."
      ],
      "metadata": {
        "id": "WiPbSRISjb16"
      }
    },
    {
      "cell_type": "code",
      "source": [
        "for name, model in best_models.items():\n",
        "    y_pred = model.predict(x_test)\n",
        "    accuracy = accuracy_score(y_test, y_pred)\n",
        "    f1 = f1_score(y_test, y_pred)\n",
        "\n",
        "    print(f\"{name} - Accuracy: {accuracy}, F1 Score: {f1}\")"
      ],
      "metadata": {
        "colab": {
          "base_uri": "https://localhost:8080/"
        },
        "id": "XakqaFF6O2_g",
        "outputId": "f428ecdd-9c3a-4d29-a132-13ad619bdd86"
      },
      "execution_count": 18,
      "outputs": [
        {
          "output_type": "stream",
          "name": "stdout",
          "text": [
            "Logistic Regression - Accuracy: 0.9754601226993865, F1 Score: 0.9130434782608695\n",
            "Random Forest - Accuracy: 1.0, F1 Score: 1.0\n",
            "Support Vector Machine - Accuracy: 0.9938650306748467, F1 Score: 0.9787234042553191\n"
          ]
        }
      ]
    },
    {
      "cell_type": "markdown",
      "source": [
        "We get the result for each algorithm. Out of three algorithms, **the Random Froest Algorithm is chosen** as we observe that it has the perfect accuracy compared to other algorithms (around 95% for Support Vector Machine and 96% for the Logistic Regression)."
      ],
      "metadata": {
        "id": "U666yClivKqJ"
      }
    },
    {
      "cell_type": "code",
      "source": [
        "y_pred = model.predict(x_test)\n",
        "cm = confusion_matrix(y_test, y_pred)\n",
        "disp = ConfusionMatrixDisplay(confusion_matrix=cm, display_labels=['Not Dropped Out', 'Dropped Out'])\n",
        "disp.plot(cmap='Blues')\n"
      ],
      "metadata": {
        "colab": {
          "base_uri": "https://localhost:8080/",
          "height": 466
        },
        "id": "hcDJ8F_nP0V1",
        "outputId": "ccfb5ab9-db76-423a-c95d-57bf0c21c656"
      },
      "execution_count": 19,
      "outputs": [
        {
          "output_type": "execute_result",
          "data": {
            "text/plain": [
              "<sklearn.metrics._plot.confusion_matrix.ConfusionMatrixDisplay at 0x7aafda807910>"
            ]
          },
          "metadata": {},
          "execution_count": 19
        },
        {
          "output_type": "display_data",
          "data": {
            "text/plain": [
              "<Figure size 640x480 with 2 Axes>"
            ],
            "image/png": "[encoded data removed]"
          },
          "metadata": {}
        }
      ]
    },
    {
      "cell_type": "markdown",
      "source": [
        "According to the generated Confusion Matrix, we can assume that our model is performing very well as we see the value 0 for the False Positive and False Negative.\n",
        "\n",
        " However, there are still certain limitations such as overfitting issues on our model."
      ],
      "metadata": {
        "id": "kQqTBCTdwvr1"
      }
    },
    {
      "cell_type": "markdown",
      "source": [
        "## Summary\n",
        "\n",
        "Overall, the pipeline can predict the dropout cases with high accuarcy and performance (100% accuracy, 0 false positives and 0 false negatives), indicating reliable predictions of student dropouts.\n",
        "\n",
        "However, there can still be limitations of the pipeline such as the risk of overfitting. This is why further validation on unseen dataset is recommended.\n",
        "\n",
        "Additionally, we learn that our model has some informative features also. For example, parental status, family size, the number of absences and social engagement such as weekend activities and free time can encourage students to drop out of school.\n",
        "\n",
        "Thanks to the model's ability to accurately predict the student dropouts, educational organizations can make informed decision-making as well as dictate suitable policies to improve educational outcomes and institutional reputations.\n",
        "\n",
        "### Recommendations\n",
        "\n",
        "**Early Interventions Program**\n",
        "\n",
        "Based on our predicted model, the educational organizations should work on early interventions programs for the students who are at-risk of dropping out. For example, the idea of implementing academic counseling and personal mentoring can be helpful to motivate those students.\n",
        "\n",
        "\n",
        "**Expand Data Collection and Regular Model Update**\n",
        "\n",
        "As there can be other features that influence our target variable, it is recommended to enhance data collection efforts. Last but not least, we should also use new data to keep our model updated, maintaining its accuracy.\n"
      ],
      "metadata": {
        "id": "Kqc4R4IMzRd2"
      }
    }
  ]
}